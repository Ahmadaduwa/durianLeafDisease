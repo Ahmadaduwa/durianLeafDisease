{
 "cells": [
  {
   "cell_type": "code",
   "execution_count": 3,
   "id": "ddf2d52f",
   "metadata": {},
   "outputs": [
    {
     "name": "stdout",
     "output_type": "stream",
     "text": [
      "Number of files in ./data/dataSets/ALGAL_LEAF_SPOT: 733\n",
      "Number of files in ./data/dataSets/ALLOCARIDARA_ATTACK: 913\n",
      "Number of files in ./data/dataSets/HEALTHY_LEAF: 976\n",
      "Number of files in ./data/dataSets/LEAF_BLIGHT: 937\n",
      "Number of files in ./data/dataSets/PHOMOPSIS_LEAF_SPOT: 878\n"
     ]
    }
   ],
   "source": [
    "#Count data\n",
    "import os\n",
    "\n",
    "# Define the paths to the directories\n",
    "source_dir = \"./data/dataSets\"\n",
    "\n",
    "AlgalLeafSpot_dir = f\"{source_dir}/ALGAL_LEAF_SPOT\"\n",
    "AllocaridaraAttack_dir = f\"{source_dir}/ALLOCARIDARA_ATTACK\"\n",
    "HealthyLeaf_dir = f\"{source_dir}/HEALTHY_LEAF\"\n",
    "LeafBlight_dir = f\"{source_dir}/LEAF_BLIGHT\"\n",
    "PhomopsisLeafSpot_dir = f\"{source_dir}/PHOMOPSIS_LEAF_SPOT\"\n",
    "\n",
    "AlgalLeafSpot_count = len(os.listdir(AlgalLeafSpot_dir))\n",
    "AllocaridaraAttack_count = len(os.listdir(AllocaridaraAttack_dir))\n",
    "HealthyLeaf_count = len(os.listdir(HealthyLeaf_dir))\n",
    "LeafBlight_count = len(os.listdir(LeafBlight_dir))\n",
    "PhomopsisLeafSpot_count = len(os.listdir(PhomopsisLeafSpot_dir))\n",
    "\n",
    "print(f\"Number of files in {AlgalLeafSpot_dir}: {AlgalLeafSpot_count}\")\n",
    "print(f\"Number of files in {AllocaridaraAttack_dir}: {AllocaridaraAttack_count}\")\n",
    "print(f\"Number of files in {HealthyLeaf_dir}: {HealthyLeaf_count}\")\n",
    "print(f\"Number of files in {LeafBlight_dir}: {LeafBlight_count}\")\n",
    "print(f\"Number of files in {PhomopsisLeafSpot_dir}: {PhomopsisLeafSpot_count}\")\n"
   ]
  },
  {
   "cell_type": "code",
   "execution_count": null,
   "id": "f86d95f1",
   "metadata": {},
   "outputs": [],
   "source": [
    "import os\n",
    "import random\n",
    "\n",
    "# Define the paths to the source and test directories\n",
    "train_dir = \"./data/train\"\n",
    "test_dir = \"./data/test\"\n",
    "\n",
    "val_ratio = 0.2\n",
    "\n",
    "# Define the number of files to select for each test category\n",
    "num_fiber = round(fiber_count*val_ratio)\n",
    "num_film = round(film_count*val_ratio)\n",
    "num_fragment = round(fragment_count*val_ratio)\n",
    "num_pellet = round(pellet_count*val_ratio)\n",
    "\n",
    "# Define the paths to the source directories for each test category\n",
    "fiber_dir = os.path.join(source_dir, \"Fiber\")\n",
    "film_dir = os.path.join(source_dir, \"Film\")\n",
    "fragment_dir = os.path.join(source_dir, \"Fragment\")\n",
    "pellet_dir = os.path.join(source_dir, \"Pellet\")\n",
    "\n",
    "# Define the paths to the test directories for each test category\n",
    "fiber_test_dir = os.path.join(test_dir, \"Fiber\")\n",
    "film_test_dir = os.path.join(test_dir, \"Film\")\n",
    "fragment_test_dir = os.path.join(test_dir, \"Fragment\")\n",
    "pellet_test_dir = os.path.join(test_dir, \"Pellet\")\n",
    "\n",
    "# Create the test directories if they don't already exist\n",
    "os.makedirs(fiber_test_dir, exist_ok=True)\n",
    "os.makedirs(film_test_dir, exist_ok=True)\n",
    "os.makedirs(fragment_test_dir, exist_ok=True)\n",
    "os.makedirs(pellet_test_dir, exist_ok=True)\n",
    "\n",
    "# Set the random seed for reproducibility\n",
    "random.seed(42)\n",
    "\n",
    "# Randomly select files from each source directory and move them to the corresponding test directory\n",
    "fiber_files = random.sample(os.listdir(fiber_dir), num_fiber)\n",
    "for f in fiber_files:\n",
    "    src_file = os.path.join(fiber_dir, f)\n",
    "    dst_file = os.path.join(fiber_test_dir, f)\n",
    "    os.rename(src_file, dst_file)\n",
    "\n",
    "film_files = random.sample(os.listdir(film_dir), num_film)\n",
    "for f in film_files:\n",
    "    src_file = os.path.join(film_dir, f)\n",
    "    dst_file = os.path.join(film_test_dir, f)\n",
    "    os.rename(src_file, dst_file)\n",
    "\n",
    "fragment_files = random.sample(os.listdir(fragment_dir), num_fragment)\n",
    "for f in fragment_files:\n",
    "    src_file = os.path.join(fragment_dir, f)\n",
    "    dst_file = os.path.join(fragment_test_dir, f)\n",
    "    os.rename(src_file, dst_file)\n",
    "\n",
    "pellet_files = random.sample(os.listdir(pellet_dir), num_pellet)\n",
    "for f in pellet_files:\n",
    "    src_file = os.path.join(pellet_dir, f)\n",
    "    dst_file = os.path.join(pellet_test_dir, f)\n",
    "    os.rename(src_file, dst_file)\n"
   ]
  }
 ],
 "metadata": {
  "kernelspec": {
   "display_name": "Python 3",
   "language": "python",
   "name": "python3"
  },
  "language_info": {
   "codemirror_mode": {
    "name": "ipython",
    "version": 3
   },
   "file_extension": ".py",
   "mimetype": "text/x-python",
   "name": "python",
   "nbconvert_exporter": "python",
   "pygments_lexer": "ipython3",
   "version": "3.11.9"
  }
 },
 "nbformat": 4,
 "nbformat_minor": 5
}
