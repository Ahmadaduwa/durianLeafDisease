{
 "cells": [
  {
   "cell_type": "code",
   "execution_count": 24,
   "id": "ddf2d52f",
   "metadata": {},
   "outputs": [],
   "source": [
    "import os\n",
    "import random\n",
    "import shutil\n",
    "\n",
    "# --- Configuration ---\n",
    "# Define the root directory containing your original image data\n",
    "source_data_root = \"./data/dataSets\"\n",
    "\n",
    "# Define the root directories for your new train and test sets\n",
    "train_dir = \"./data/train\"\n",
    "test_dir = \"./data/test\"\n",
    "\n",
    "# Define the categories (subfolder names) in your dataset\n",
    "categories = [\n",
    "    \"ALGAL_LEAF_SPOT\",\n",
    "    \"ALLOCARIDARA_ATTACK\",\n",
    "    \"HEALTHY_LEAF\",\n",
    "    \"LEAF_BLIGHT\",\n",
    "    \"PHOMOPSIS_LEAF_SPOT\"\n",
    "]\n",
    "\n",
    "# Define the ratio of data to be used for the test set (e.g., 0.2 means 20% for test)\n",
    "test_ratio = 0.138\n",
    "\n",
    "# Set the random seed for reproducibility\n",
    "random.seed(42)"
   ]
  },
  {
   "cell_type": "code",
   "execution_count": 25,
   "id": "f86d95f1",
   "metadata": {},
   "outputs": [
    {
     "name": "stdout",
     "output_type": "stream",
     "text": [
      "Cleaning up existing train and test directories...\n",
      "Cleanup complete.\n"
     ]
    }
   ],
   "source": [
    "# --- Clean up previous train and test directories ---\n",
    "print(\"Cleaning up existing train and test directories...\")\n",
    "if os.path.exists(train_dir):\n",
    "    shutil.rmtree(train_dir)\n",
    "if os.path.exists(test_dir):\n",
    "    shutil.rmtree(test_dir)\n",
    "print(\"Cleanup complete.\")"
   ]
  },
  {
   "cell_type": "code",
   "execution_count": 26,
   "id": "0d12aa10",
   "metadata": {},
   "outputs": [
    {
     "name": "stdout",
     "output_type": "stream",
     "text": [
      "\n",
      "--- Processing Data Split ---\n",
      "Category 'ALGAL_LEAF_SPOT':\n",
      "  Total files: 733\n",
      "  Moved 101 files to ./data/test\\ALGAL_LEAF_SPOT\n",
      "  Moved 632 files to ./data/train\\ALGAL_LEAF_SPOT\n",
      "Category 'ALLOCARIDARA_ATTACK':\n",
      "  Total files: 913\n",
      "  Moved 126 files to ./data/test\\ALLOCARIDARA_ATTACK\n",
      "  Moved 787 files to ./data/train\\ALLOCARIDARA_ATTACK\n",
      "Category 'HEALTHY_LEAF':\n",
      "  Total files: 976\n",
      "  Moved 135 files to ./data/test\\HEALTHY_LEAF\n",
      "  Moved 841 files to ./data/train\\HEALTHY_LEAF\n",
      "Category 'LEAF_BLIGHT':\n",
      "  Total files: 937\n",
      "  Moved 129 files to ./data/test\\LEAF_BLIGHT\n",
      "  Moved 808 files to ./data/train\\LEAF_BLIGHT\n",
      "Category 'PHOMOPSIS_LEAF_SPOT':\n",
      "  Total files: 878\n",
      "  Moved 121 files to ./data/test\\PHOMOPSIS_LEAF_SPOT\n",
      "  Moved 757 files to ./data/train\\PHOMOPSIS_LEAF_SPOT\n"
     ]
    }
   ],
   "source": [
    "# --- Create new train and test base directories ---\n",
    "os.makedirs(train_dir, exist_ok=True)\n",
    "os.makedirs(test_dir, exist_ok=True)\n",
    "\n",
    "print(\"\\n--- Processing Data Split ---\")\n",
    "\n",
    "# Process each category\n",
    "for category in categories:\n",
    "    source_category_path = os.path.join(source_data_root, category)\n",
    "    train_category_path = os.path.join(train_dir, category)\n",
    "    test_category_path = os.path.join(test_dir, category)\n",
    "\n",
    "    # Create category subdirectories in train and test\n",
    "    os.makedirs(train_category_path, exist_ok=True)\n",
    "    os.makedirs(test_category_path, exist_ok=True)\n",
    "\n",
    "    try:\n",
    "        # Get all files in the source category directory\n",
    "        all_files = [f for f in os.listdir(source_category_path) if os.path.isfile(os.path.join(source_category_path, f))]\n",
    "        total_files_in_category = len(all_files)\n",
    "\n",
    "        if total_files_in_category == 0:\n",
    "            print(f\"Warning: No files found in {source_category_path}. Skipping this category.\")\n",
    "            continue\n",
    "\n",
    "        # Calculate the number of files for the test set\n",
    "        num_test_files = round(total_files_in_category * test_ratio)\n",
    "        # Ensure at least one file for test if total_files_in_category > 0 and num_test_files is 0 due to rounding\n",
    "        if num_test_files == 0 and total_files_in_category > 0:\n",
    "            num_test_files = 1\n",
    "\n",
    "        # Randomly select files for the test set\n",
    "        test_files = random.sample(all_files, num_test_files)\n",
    "\n",
    "        # The remaining files go to the training set\n",
    "        train_files = list(set(all_files) - set(test_files))\n",
    "\n",
    "        # Move files to the respective test and train directories\n",
    "        for f in test_files:\n",
    "            src_path = os.path.join(source_category_path, f)\n",
    "            dst_path = os.path.join(test_category_path, f)\n",
    "            shutil.copy(src_path, dst_path) # Use copy instead of rename if you want to keep original dataset intact\n",
    "\n",
    "        for f in train_files:\n",
    "            src_path = os.path.join(source_category_path, f)\n",
    "            dst_path = os.path.join(train_category_path, f)\n",
    "            shutil.copy(src_path, dst_path) # Use copy instead of rename\n",
    "\n",
    "        print(f\"Category '{category}':\")\n",
    "        print(f\"  Total files: {total_files_in_category}\")\n",
    "        print(f\"  Moved {len(test_files)} files to {test_category_path}\")\n",
    "        print(f\"  Moved {len(train_files)} files to {train_category_path}\")\n",
    "\n",
    "    except FileNotFoundError:\n",
    "        print(f\"Error: Source directory not found for {category}: {source_category_path}\")\n",
    "    except Exception as e:\n",
    "        print(f\"An error occurred while processing {category}: {e}\")"
   ]
  },
  {
   "cell_type": "code",
   "execution_count": 27,
   "id": "b8e7399c",
   "metadata": {},
   "outputs": [
    {
     "name": "stdout",
     "output_type": "stream",
     "text": [
      "\n",
      "--- Final File Counts in Train and Test Sets ---\n",
      "Category 'ALGAL_LEAF_SPOT': Train=632, Test=101\n",
      "Category 'ALLOCARIDARA_ATTACK': Train=787, Test=126\n",
      "Category 'HEALTHY_LEAF': Train=841, Test=135\n",
      "Category 'LEAF_BLIGHT': Train=808, Test=129\n",
      "Category 'PHOMOPSIS_LEAF_SPOT': Train=757, Test=121\n"
     ]
    }
   ],
   "source": [
    "# --- Final verification of counts in new directories ---\n",
    "print(\"\\n--- Final File Counts in Train and Test Sets ---\")\n",
    "for category in categories:\n",
    "    train_category_path = os.path.join(train_dir, category)\n",
    "    test_category_path = os.path.join(test_dir, category)\n",
    "\n",
    "    try:\n",
    "        train_count = len(os.listdir(train_category_path))\n",
    "        test_count = len(os.listdir(test_category_path))\n",
    "        print(f\"Category '{category}': Train={train_count}, Test={test_count}\")\n",
    "    except FileNotFoundError:\n",
    "        print(f\"Warning: Directory not found for counts: {train_category_path} or {test_category_path}\")\n",
    "    except Exception as e:\n",
    "        print(f\"An error occurred during final count for {category}: {e}\")"
   ]
  }
 ],
 "metadata": {
  "kernelspec": {
   "display_name": "Python 3",
   "language": "python",
   "name": "python3"
  },
  "language_info": {
   "codemirror_mode": {
    "name": "ipython",
    "version": 3
   },
   "file_extension": ".py",
   "mimetype": "text/x-python",
   "name": "python",
   "nbconvert_exporter": "python",
   "pygments_lexer": "ipython3",
   "version": "3.11.9"
  }
 },
 "nbformat": 4,
 "nbformat_minor": 5
}
